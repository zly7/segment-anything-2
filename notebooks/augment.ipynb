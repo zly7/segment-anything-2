{
 "cells": [
  {
   "cell_type": "code",
   "execution_count": 1,
   "metadata": {},
   "outputs": [
    {
     "data": {
      "application/vnd.jupyter.widget-view+json": {
       "model_id": "22cdb37d88b34c8fbafbc05cf34142a6",
       "version_major": 2,
       "version_minor": 0
      },
      "text/plain": [
       "interactive(children=(FloatSlider(value=0.0, description='Shear X', max=1.0, min=-1.0), FloatSlider(value=0.0,…"
      ]
     },
     "metadata": {},
     "output_type": "display_data"
    }
   ],
   "source": [
    "# Import necessary libraries\n",
    "import cv2\n",
    "import numpy as np\n",
    "import matplotlib.pyplot as plt\n",
    "from ipywidgets import interact, FloatSlider\n",
    "\n",
    "# Load the image\n",
    "image_path = \"/data3/zly/multi_ob/segment-anything-2/notebooks/images/cars.jpg\"\n",
    "image = cv2.imread(image_path)\n",
    "image = cv2.cvtColor(image, cv2.COLOR_BGR2RGB)  # Convert to RGB for plotting\n",
    "\n",
    "# Function to apply shear transformation\n",
    "def apply_shear(shear_x=0.0, shear_y=0.0):\n",
    "    h, w = image.shape[:2]\n",
    "    \n",
    "    # Define the shear matrix\n",
    "    shear_matrix = np.array([\n",
    "        [1, shear_x, 0],\n",
    "        [shear_y, 1, 0]\n",
    "    ], dtype=np.float32)\n",
    "    \n",
    "    # Apply the shear transformation\n",
    "    transformed_image = cv2.warpAffine(image, shear_matrix, (w, h), borderMode=cv2.BORDER_REFLECT)\n",
    "    \n",
    "    # Display the original and transformed images\n",
    "    plt.figure(figsize=(10, 5))\n",
    "    plt.subplot(1, 2, 1)\n",
    "    plt.imshow(image)\n",
    "    plt.title(\"Original Image\")\n",
    "    plt.axis(\"off\")\n",
    "    \n",
    "    plt.subplot(1, 2, 2)\n",
    "    plt.imshow(transformed_image)\n",
    "    plt.title(f\"Sheared Image\\n(shear_x={shear_x}, shear_y={shear_y})\")\n",
    "    plt.axis(\"off\")\n",
    "    \n",
    "    plt.show()\n",
    "\n",
    "# Interactive widget to control shear factors\n",
    "interact(apply_shear, \n",
    "         shear_x=FloatSlider(min=-1.0, max=1.0, step=0.1, value=0.0, description=\"Shear X\"),\n",
    "         shear_y=FloatSlider(min=-1.0, max=1.0, step=0.1, value=0.0, description=\"Shear Y\"));\n"
   ]
  }
 ],
 "metadata": {
  "kernelspec": {
   "display_name": "base",
   "language": "python",
   "name": "python3"
  },
  "language_info": {
   "codemirror_mode": {
    "name": "ipython",
    "version": 3
   },
   "file_extension": ".py",
   "mimetype": "text/x-python",
   "name": "python",
   "nbconvert_exporter": "python",
   "pygments_lexer": "ipython3",
   "version": "3.12.7"
  }
 },
 "nbformat": 4,
 "nbformat_minor": 2
}

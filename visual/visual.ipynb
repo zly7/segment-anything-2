{
 "cells": [
  {
   "cell_type": "markdown",
   "metadata": {},
   "source": [
    "## 这个主要看这个生成的bounding box 是不是真的和德帆说的一样是真的没有理解到背后的人"
   ]
  },
  {
   "cell_type": "code",
   "execution_count": null,
   "metadata": {},
   "outputs": [],
   "source": [
    "import os\n",
    "mot_path = \"/data/zly/mot_data\"\n",
    "dataset = \"MOT17\"\n",
    "#/data/zly/mot_data/MOT17/give_every_step10_frames_each_id\n",
    "exp_name = \"give_every_step10_frames_each_id\"\n",
    "split = \"train\""
   ]
  }
 ],
 "metadata": {
  "kernelspec": {
   "display_name": "py311",
   "language": "python",
   "name": "python3"
  },
  "language_info": {
   "name": "python",
   "version": "3.11.6"
  }
 },
 "nbformat": 4,
 "nbformat_minor": 2
}
